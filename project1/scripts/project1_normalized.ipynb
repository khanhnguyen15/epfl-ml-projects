{
 "cells": [
  {
   "cell_type": "code",
   "execution_count": 1,
   "id": "cfd0d2de",
   "metadata": {},
   "outputs": [],
   "source": [
    "# Useful starting lines\n",
    "%matplotlib inline\n",
    "import numpy as np\n",
    "import matplotlib.pyplot as plt\n",
    "%load_ext autoreload\n",
    "%autoreload 2"
   ]
  },
  {
   "cell_type": "code",
   "execution_count": 39,
   "id": "ed053c80",
   "metadata": {},
   "outputs": [],
   "source": [
    "from data_preprocessing import *\n",
    "from implementation import *\n",
    "from helpers import *\n",
    "from plot import *"
   ]
  },
  {
   "cell_type": "markdown",
   "id": "83b48564",
   "metadata": {},
   "source": [
    "### Categorize the data and remove columns"
   ]
  },
  {
   "cell_type": "code",
   "execution_count": 3,
   "id": "78e66bf2",
   "metadata": {},
   "outputs": [],
   "source": [
    "from proj1_helpers import *\n",
    "DATA_TRAIN_PATH = '../data/train.csv' # TODO: download train data and supply path here \n",
    "y, tX, ids = load_csv_data(DATA_TRAIN_PATH)"
   ]
  },
  {
   "cell_type": "code",
   "execution_count": 4,
   "id": "ba343b94",
   "metadata": {},
   "outputs": [],
   "source": [
    "groups = categorize(y, tX, ids)"
   ]
  },
  {
   "cell_type": "code",
   "execution_count": 5,
   "id": "eb50ebb2",
   "metadata": {},
   "outputs": [],
   "source": [
    "for i, (y, tX, ids) in enumerate(groups):\n",
    "    tX = remove_uniform_col(tX)\n",
    "    groups[i] = (y, tX, ids)"
   ]
  },
  {
   "cell_type": "markdown",
   "id": "2fd787d1",
   "metadata": {},
   "source": [
    "### Cleaning, removing outliers, and standardize (not used)"
   ]
  },
  {
   "cell_type": "code",
   "execution_count": 6,
   "id": "73afb63c",
   "metadata": {},
   "outputs": [],
   "source": [
    "non_correlated_cols = []\n",
    "\n",
    "for i, (y, tX, ids) in enumerate(groups):\n",
    "    y = change_y(y)\n",
    "    non_correlated_cols.append(non_correlated_col(tX))\n",
    "    \n",
    "    x, mean_x, std_x = clean(tX)\n",
    "    y, x = remove_outliers(y, x, mean_x, std_x)\n",
    "    x = standardize(x, mean_x, std_x)\n",
    "    x = x[:, non_correlated_cols[i]]\n",
    "    \n",
    "    groups[i] = (y, x, ids)"
   ]
  },
  {
   "cell_type": "markdown",
   "id": "7e940d62",
   "metadata": {},
   "source": [
    "### Least squares GD"
   ]
  },
  {
   "cell_type": "code",
   "execution_count": 7,
   "id": "4b8bed61",
   "metadata": {},
   "outputs": [
    {
     "data": {
      "text/plain": [
       "0.6590561421297418"
      ]
     },
     "execution_count": 7,
     "metadata": {},
     "output_type": "execute_result"
    }
   ],
   "source": [
    "weights = []\n",
    "y_preds = []\n",
    "\n",
    "for y, x, ids in groups:\n",
    "    initial_w = 0.001 * np.ones(x.shape[1])\n",
    "    w, _ = least_squares_GD(y, x, initial_w, 1000, 0.001)\n",
    "    y_pred = predict_labels(w, x)\n",
    "    \n",
    "    weights.append(w)\n",
    "    y_preds.append(y_pred)\n",
    "\n",
    "y_pred = np.concatenate(y_preds)\n",
    "y_label = np.concatenate([y for (y, _, _) in groups])\n",
    "\n",
    "accuracy_score(y_pred, y_label)"
   ]
  },
  {
   "cell_type": "markdown",
   "id": "aa617759",
   "metadata": {},
   "source": [
    "### Least squares SGD"
   ]
  },
  {
   "cell_type": "code",
   "execution_count": 14,
   "id": "8d28b905",
   "metadata": {},
   "outputs": [
    {
     "data": {
      "text/plain": [
       "0.6783961910639893"
      ]
     },
     "execution_count": 14,
     "metadata": {},
     "output_type": "execute_result"
    }
   ],
   "source": [
    "weights = []\n",
    "y_preds = []\n",
    "\n",
    "for y, x, ids in groups:\n",
    "    initial_w = 0.001 * np.ones(x.shape[1])\n",
    "    w, _ = least_squares_SGD(y, x, initial_w, 10, 0.001)\n",
    "    y_pred = predict_labels(w, x)\n",
    "    \n",
    "    weights.append(w)\n",
    "    y_preds.append(y_pred)\n",
    "\n",
    "y_pred = np.concatenate(y_preds)\n",
    "y_label = np.concatenate([y for (y, _, _) in groups])\n",
    "\n",
    "accuracy_score(y_pred, y_label)"
   ]
  },
  {
   "cell_type": "markdown",
   "id": "c3ff4a91",
   "metadata": {},
   "source": [
    "### Least squares with normal equations"
   ]
  },
  {
   "cell_type": "code",
   "execution_count": 15,
   "id": "aac8f744",
   "metadata": {},
   "outputs": [
    {
     "data": {
      "text/plain": [
       "0.6769413891154363"
      ]
     },
     "execution_count": 15,
     "metadata": {},
     "output_type": "execute_result"
    }
   ],
   "source": [
    "weights = []\n",
    "y_preds = []\n",
    "\n",
    "for y, x, ids in groups:\n",
    "    w, _ = least_squares(y, x)\n",
    "    y_pred = predict_labels(w, x)\n",
    "    \n",
    "    weights.append(w)\n",
    "    y_preds.append(y_pred)\n",
    "\n",
    "y_pred = np.concatenate(y_preds)\n",
    "y_label = np.concatenate([y for (y, _, _) in groups])\n",
    "\n",
    "accuracy_score(y_pred, y_label)"
   ]
  },
  {
   "cell_type": "markdown",
   "id": "b01cf07b",
   "metadata": {},
   "source": [
    "### Ridge Regression"
   ]
  },
  {
   "cell_type": "code",
   "execution_count": 16,
   "id": "c027bd7f",
   "metadata": {},
   "outputs": [],
   "source": [
    "### cross Validation to find lambda\n",
    "lambdas = np.logspace(-4, 0, 30)\n",
    "accuracies = []\n",
    "\n",
    "for y, x, ids in groups:\n",
    "    accuracy = ridge_cross_validation(y, x, lambdas)\n",
    "    accuracies.append(accuracy)"
   ]
  },
  {
   "cell_type": "code",
   "execution_count": 17,
   "id": "b19d1f8e",
   "metadata": {},
   "outputs": [
    {
     "data": {
      "image/png": "[encoded data removed]",
      "text/plain": [
       "<Figure size 432x288 with 1 Axes>"
      ]
     },
     "metadata": {
      "needs_background": "light"
     },
     "output_type": "display_data"
    }
   ],
   "source": [
    "ridge_cross_validation_visualization(lambdas, accuracies)"
   ]
  },
  {
   "cell_type": "code",
   "execution_count": 18,
   "id": "813b118a",
   "metadata": {},
   "outputs": [
    {
     "name": "stdout",
     "output_type": "stream",
     "text": [
      "0.0001\n"
     ]
    }
   ],
   "source": [
    "### select lambdas with the highest average accuracy\n",
    "best_lambda = lambdas[np.argmax(np.mean(accuracies, axis=0))]\n",
    "print(best_lambda)"
   ]
  },
  {
   "cell_type": "code",
   "execution_count": 19,
   "id": "daa333b3",
   "metadata": {},
   "outputs": [
    {
     "data": {
      "text/plain": [
       "0.6768752617541385"
      ]
     },
     "execution_count": 19,
     "metadata": {},
     "output_type": "execute_result"
    }
   ],
   "source": [
    "weights = []\n",
    "y_preds = []\n",
    "\n",
    "for y, x, ids in groups:\n",
    "    w, _ = ridge_regression(y, x, best_lambda)\n",
    "    y_pred = predict_labels(w, x)\n",
    "    \n",
    "    weights.append(w)\n",
    "    y_preds.append(y_pred)\n",
    "\n",
    "y_pred = np.concatenate(y_preds)\n",
    "y_label = np.concatenate([y for (y, _, _) in groups])\n",
    "\n",
    "accuracy_score(y_pred, y_label)"
   ]
  },
  {
   "cell_type": "markdown",
   "id": "aea9a736",
   "metadata": {},
   "source": [
    "### Logistic Regression"
   ]
  },
  {
   "cell_type": "code",
   "execution_count": 22,
   "id": "ba48b993",
   "metadata": {},
   "outputs": [
    {
     "data": {
      "text/plain": [
       "0.5915356977538739"
      ]
     },
     "execution_count": 22,
     "metadata": {},
     "output_type": "execute_result"
    }
   ],
   "source": [
    "weights = []\n",
    "y_preds = []\n",
    "\n",
    "for y, x, ids in groups:\n",
    "    initial_w = 0.001 * np.ones(x.shape[1])\n",
    "    w, _ = logistic_regression(y, x, initial_w, 100, 0.001)\n",
    "    y_pred = predict_labels(w, x)\n",
    "    \n",
    "    weights.append(w)\n",
    "    y_preds.append(y_pred)\n",
    "\n",
    "y_pred = np.concatenate(y_preds)\n",
    "y_label = np.concatenate([y for (y, _, _) in groups])\n",
    "\n",
    "accuracy_score(y_pred, y_label)"
   ]
  },
  {
   "cell_type": "markdown",
   "id": "165eb67d",
   "metadata": {},
   "source": [
    "### Regularized Logistic Regression"
   ]
  },
  {
   "cell_type": "code",
   "execution_count": 40,
   "id": "9785aa1f",
   "metadata": {},
   "outputs": [
    {
     "name": "stdout",
     "output_type": "stream",
     "text": [
      "<class 'numpy.ndarray'>\n",
      "<class 'numpy.float64'>\n"
     ]
    },
    {
     "name": "stderr",
     "output_type": "stream",
     "text": [
      "D:\\EPFL\\ML\\projects\\project1\\scripts\\implementation.py:196: RuntimeWarning: overflow encountered in exp\n",
      "  return 1.0 / (1 + np.exp(-t))\n",
      "D:\\EPFL\\ML\\projects\\project1\\scripts\\implementation.py:207: RuntimeWarning: divide by zero encountered in log\n",
      "  loss = y.T.dot(np.log(pred)) + (1 - y).T.dot(np.log(1 - pred))\n"
     ]
    },
    {
     "ename": "AttributeError",
     "evalue": "'numpy.float64' object has no attribute 'dot'",
     "output_type": "error",
     "traceback": [
      "\u001b[1;31m---------------------------------------------------------------------------\u001b[0m",
      "\u001b[1;31mAttributeError\u001b[0m                            Traceback (most recent call last)",
      "\u001b[1;32m<ipython-input-40-14ff1c86f93d>\u001b[0m in \u001b[0;36m<module>\u001b[1;34m\u001b[0m\n\u001b[0;32m      4\u001b[0m \u001b[1;32mfor\u001b[0m \u001b[0my\u001b[0m\u001b[1;33m,\u001b[0m \u001b[0mx\u001b[0m\u001b[1;33m,\u001b[0m \u001b[0mids\u001b[0m \u001b[1;32min\u001b[0m \u001b[0mgroups\u001b[0m\u001b[1;33m:\u001b[0m\u001b[1;33m\u001b[0m\u001b[1;33m\u001b[0m\u001b[0m\n\u001b[0;32m      5\u001b[0m     \u001b[0minitial_w\u001b[0m \u001b[1;33m=\u001b[0m \u001b[1;36m0.001\u001b[0m \u001b[1;33m*\u001b[0m \u001b[0mnp\u001b[0m\u001b[1;33m.\u001b[0m\u001b[0mones\u001b[0m\u001b[1;33m(\u001b[0m\u001b[0mx\u001b[0m\u001b[1;33m.\u001b[0m\u001b[0mshape\u001b[0m\u001b[1;33m[\u001b[0m\u001b[1;36m1\u001b[0m\u001b[1;33m]\u001b[0m\u001b[1;33m)\u001b[0m\u001b[1;33m\u001b[0m\u001b[1;33m\u001b[0m\u001b[0m\n\u001b[1;32m----> 6\u001b[1;33m     \u001b[0mw\u001b[0m\u001b[1;33m,\u001b[0m \u001b[0m_\u001b[0m \u001b[1;33m=\u001b[0m \u001b[0mreg_logistic_regression\u001b[0m\u001b[1;33m(\u001b[0m\u001b[0my\u001b[0m\u001b[1;33m,\u001b[0m \u001b[0mx\u001b[0m\u001b[1;33m,\u001b[0m \u001b[1;36m0.1\u001b[0m\u001b[1;33m,\u001b[0m \u001b[0minitial_w\u001b[0m\u001b[1;33m,\u001b[0m \u001b[1;36m100\u001b[0m\u001b[1;33m,\u001b[0m \u001b[1;36m0.001\u001b[0m\u001b[1;33m)\u001b[0m\u001b[1;33m\u001b[0m\u001b[1;33m\u001b[0m\u001b[0m\n\u001b[0m\u001b[0;32m      7\u001b[0m     \u001b[0my_pred\u001b[0m \u001b[1;33m=\u001b[0m \u001b[0mpredict_labels\u001b[0m\u001b[1;33m(\u001b[0m\u001b[0mw\u001b[0m\u001b[1;33m,\u001b[0m \u001b[0mx\u001b[0m\u001b[1;33m)\u001b[0m\u001b[1;33m\u001b[0m\u001b[1;33m\u001b[0m\u001b[0m\n\u001b[0;32m      8\u001b[0m \u001b[1;33m\u001b[0m\u001b[0m\n",
      "\u001b[1;32mD:\\EPFL\\ML\\projects\\project1\\scripts\\implementation.py\u001b[0m in \u001b[0;36mreg_logistic_regression\u001b[1;34m(y, tx, lambda_, initial_w, max_iters, gamma)\u001b[0m\n\u001b[0;32m    236\u001b[0m     \u001b[1;32mfor\u001b[0m \u001b[0miter\u001b[0m \u001b[1;32min\u001b[0m \u001b[0mrange\u001b[0m\u001b[1;33m(\u001b[0m\u001b[0mmax_iters\u001b[0m\u001b[1;33m)\u001b[0m\u001b[1;33m:\u001b[0m\u001b[1;33m\u001b[0m\u001b[1;33m\u001b[0m\u001b[0m\n\u001b[0;32m    237\u001b[0m         \u001b[1;31m# get loss and update w.\u001b[0m\u001b[1;33m\u001b[0m\u001b[1;33m\u001b[0m\u001b[0m\n\u001b[1;32m--> 238\u001b[1;33m         \u001b[0mw\u001b[0m\u001b[1;33m,\u001b[0m \u001b[0mloss\u001b[0m \u001b[1;33m=\u001b[0m \u001b[0mlearning_by_penalized_gradient\u001b[0m\u001b[1;33m(\u001b[0m\u001b[0my\u001b[0m\u001b[1;33m,\u001b[0m \u001b[0mtx\u001b[0m\u001b[1;33m,\u001b[0m \u001b[0mw\u001b[0m\u001b[1;33m,\u001b[0m \u001b[0mgamma\u001b[0m\u001b[1;33m,\u001b[0m \u001b[0mlambda_\u001b[0m\u001b[1;33m)\u001b[0m\u001b[1;33m\u001b[0m\u001b[1;33m\u001b[0m\u001b[0m\n\u001b[0m\u001b[0;32m    239\u001b[0m         \u001b[0mlosses\u001b[0m\u001b[1;33m.\u001b[0m\u001b[0mappend\u001b[0m\u001b[1;33m(\u001b[0m\u001b[0mloss\u001b[0m\u001b[1;33m)\u001b[0m\u001b[1;33m\u001b[0m\u001b[1;33m\u001b[0m\u001b[0m\n\u001b[0;32m    240\u001b[0m \u001b[1;33m\u001b[0m\u001b[0m\n",
      "\u001b[1;32mD:\\EPFL\\ML\\projects\\project1\\scripts\\implementation.py\u001b[0m in \u001b[0;36mlearning_by_penalized_gradient\u001b[1;34m(y, tx, w, gamma, lambda_)\u001b[0m\n\u001b[0;32m    221\u001b[0m     \u001b[0mReturn\u001b[0m \u001b[0mthe\u001b[0m \u001b[0mloss\u001b[0m \u001b[1;32mand\u001b[0m \u001b[0mupdated\u001b[0m \u001b[0mw\u001b[0m\u001b[1;33m.\u001b[0m\u001b[1;33m\u001b[0m\u001b[1;33m\u001b[0m\u001b[0m\n\u001b[0;32m    222\u001b[0m     \"\"\"\n\u001b[1;32m--> 223\u001b[1;33m     \u001b[0mloss\u001b[0m\u001b[1;33m,\u001b[0m \u001b[0mgradient\u001b[0m \u001b[1;33m=\u001b[0m \u001b[0mpenalized_logistic_regression\u001b[0m\u001b[1;33m(\u001b[0m\u001b[0my\u001b[0m\u001b[1;33m,\u001b[0m \u001b[0mtx\u001b[0m\u001b[1;33m,\u001b[0m \u001b[0mw\u001b[0m\u001b[1;33m,\u001b[0m \u001b[0mlambda_\u001b[0m\u001b[1;33m)\u001b[0m\u001b[1;33m\u001b[0m\u001b[1;33m\u001b[0m\u001b[0m\n\u001b[0m\u001b[0;32m    224\u001b[0m     \u001b[0mw\u001b[0m \u001b[1;33m-=\u001b[0m \u001b[0mgamma\u001b[0m \u001b[1;33m*\u001b[0m \u001b[0mgradient\u001b[0m\u001b[1;33m\u001b[0m\u001b[1;33m\u001b[0m\u001b[0m\n\u001b[0;32m    225\u001b[0m     \u001b[1;32mreturn\u001b[0m \u001b[0mloss\u001b[0m\u001b[1;33m,\u001b[0m \u001b[0mw\u001b[0m\u001b[1;33m\u001b[0m\u001b[1;33m\u001b[0m\u001b[0m\n",
      "\u001b[1;32mD:\\EPFL\\ML\\projects\\project1\\scripts\\implementation.py\u001b[0m in \u001b[0;36mpenalized_logistic_regression\u001b[1;34m(y, tx, w, lambda_)\u001b[0m\n\u001b[0;32m    212\u001b[0m     \u001b[0mnum_samples\u001b[0m \u001b[1;33m=\u001b[0m \u001b[0my\u001b[0m\u001b[1;33m.\u001b[0m\u001b[0mshape\u001b[0m\u001b[1;33m[\u001b[0m\u001b[1;36m0\u001b[0m\u001b[1;33m]\u001b[0m\u001b[1;33m\u001b[0m\u001b[1;33m\u001b[0m\u001b[0m\n\u001b[0;32m    213\u001b[0m     \u001b[0mprint\u001b[0m\u001b[1;33m(\u001b[0m\u001b[0mtype\u001b[0m\u001b[1;33m(\u001b[0m\u001b[0mw\u001b[0m\u001b[1;33m.\u001b[0m\u001b[0mT\u001b[0m\u001b[1;33m)\u001b[0m\u001b[1;33m)\u001b[0m\u001b[1;33m\u001b[0m\u001b[1;33m\u001b[0m\u001b[0m\n\u001b[1;32m--> 214\u001b[1;33m     \u001b[0mloss\u001b[0m \u001b[1;33m=\u001b[0m \u001b[0mcalculate_loglikelihood_loss\u001b[0m\u001b[1;33m(\u001b[0m\u001b[0my\u001b[0m\u001b[1;33m,\u001b[0m \u001b[0mtx\u001b[0m\u001b[1;33m,\u001b[0m \u001b[0mw\u001b[0m\u001b[1;33m)\u001b[0m \u001b[1;33m+\u001b[0m \u001b[0mlambda_\u001b[0m \u001b[1;33m*\u001b[0m \u001b[0mnp\u001b[0m\u001b[1;33m.\u001b[0m\u001b[0msqueeze\u001b[0m\u001b[1;33m(\u001b[0m\u001b[0mw\u001b[0m\u001b[1;33m.\u001b[0m\u001b[0mT\u001b[0m\u001b[1;33m.\u001b[0m\u001b[0mdot\u001b[0m\u001b[1;33m(\u001b[0m\u001b[0mw\u001b[0m\u001b[1;33m)\u001b[0m\u001b[1;33m)\u001b[0m\u001b[1;33m\u001b[0m\u001b[1;33m\u001b[0m\u001b[0m\n\u001b[0m\u001b[0;32m    215\u001b[0m     \u001b[0mgradient\u001b[0m \u001b[1;33m=\u001b[0m \u001b[0mcalculate_gradient\u001b[0m\u001b[1;33m(\u001b[0m\u001b[0my\u001b[0m\u001b[1;33m,\u001b[0m \u001b[0mtx\u001b[0m\u001b[1;33m,\u001b[0m \u001b[0mw\u001b[0m\u001b[1;33m)\u001b[0m \u001b[1;33m+\u001b[0m \u001b[1;36m2\u001b[0m \u001b[1;33m*\u001b[0m \u001b[0mlambda_\u001b[0m \u001b[1;33m*\u001b[0m \u001b[0mw\u001b[0m\u001b[1;33m\u001b[0m\u001b[1;33m\u001b[0m\u001b[0m\n\u001b[0;32m    216\u001b[0m     \u001b[1;32mreturn\u001b[0m \u001b[0mloss\u001b[0m\u001b[1;33m,\u001b[0m \u001b[0mgradient\u001b[0m\u001b[1;33m\u001b[0m\u001b[1;33m\u001b[0m\u001b[0m\n",
      "\u001b[1;31mAttributeError\u001b[0m: 'numpy.float64' object has no attribute 'dot'"
     ]
    }
   ],
   "source": [
    "weights = []\n",
    "y_preds = []\n",
    "\n",
    "for y, x, ids in groups:\n",
    "    initial_w = 0.001 * np.ones(x.shape[1])\n",
    "    w, _ = reg_logistic_regression(y, x, 0.1, initial_w, 100, 0.001)\n",
    "    y_pred = predict_labels(w, x)\n",
    "    \n",
    "    weights.append(w)\n",
    "    y_preds.append(y_pred)\n",
    "\n",
    "y_pred = np.concatenate(y_preds)\n",
    "y_label = np.concatenate([y for (y, _, _) in groups])\n",
    "\n",
    "accuracy_score(y_pred, y_label)"
   ]
  },
  {
   "cell_type": "markdown",
   "id": "5dcecb7e",
   "metadata": {},
   "source": [
    "### Add polynomial basis"
   ]
  },
  {
   "cell_type": "code",
   "execution_count": null,
   "id": "fe301a1e",
   "metadata": {},
   "outputs": [],
   "source": [
    "polys = np.arange(1, 13)\n",
    "accuracies = []\n",
    "\n",
    "for y, x, ids in groups:\n",
    "    accuracy = poly_cross_validation(y, x, best_lambda, polys)\n",
    "    accuracies.append(accuracy)"
   ]
  },
  {
   "cell_type": "code",
   "execution_count": null,
   "id": "70dac739",
   "metadata": {},
   "outputs": [],
   "source": [
    "poly_cross_validation_visualization(polys, accuracies)"
   ]
  },
  {
   "cell_type": "code",
   "execution_count": null,
   "id": "1857f561",
   "metadata": {},
   "outputs": [],
   "source": [
    "# we choose a degree of 5 to have substantial performance while avoiding overfitting\n",
    "for i, (y, x, ids) in enumerate(groups):\n",
    "    x = build_poly(x, 5)\n",
    "    groups[i] = (y, x, ids)"
   ]
  },
  {
   "cell_type": "code",
   "execution_count": null,
   "id": "c82803b9",
   "metadata": {},
   "outputs": [],
   "source": [
    "# using ridge regression\n",
    "weights = []\n",
    "y_preds = []\n",
    "\n",
    "for y, x, ids in groups:\n",
    "    w, _ = ridge_regression(y, x, best_lambda)\n",
    "    y_pred = predict_labels(w, x)\n",
    "    \n",
    "    weights.append(w)\n",
    "    y_preds.append(y_pred)\n",
    "\n",
    "y_pred = np.concatenate(y_preds)\n",
    "y_label = np.concatenate([y for (y, _, _) in groups])\n",
    "\n",
    "accuracy_score(y_pred, y_label)"
   ]
  },
  {
   "cell_type": "code",
   "execution_count": null,
   "id": "cddca46b",
   "metadata": {},
   "outputs": [],
   "source": [
    "# using least squares\n",
    "weights = []\n",
    "y_preds = []\n",
    "\n",
    "for y, x, ids in groups:\n",
    "    w, _ = least_squares(y, x)\n",
    "    y_pred = predict_labels(w, x)\n",
    "    \n",
    "    weights.append(w)\n",
    "    y_preds.append(y_pred)\n",
    "\n",
    "y_pred = np.concatenate(y_preds)\n",
    "y_label = np.concatenate([y for (y, _, _) in groups])\n",
    "\n",
    "accuracy_score(y_pred, y_label)"
   ]
  },
  {
   "cell_type": "markdown",
   "id": "6ec32706",
   "metadata": {},
   "source": [
    "### APPYING TO TEST"
   ]
  },
  {
   "cell_type": "code",
   "execution_count": null,
   "id": "3f9f0df8",
   "metadata": {},
   "outputs": [],
   "source": [
    "DATA_TEST_PATH = '../data/test.csv' # TODO: download train data and supply path here \n",
    "y_test, tX_test, ids_test = load_csv_data(DATA_TEST_PATH)"
   ]
  },
  {
   "cell_type": "code",
   "execution_count": null,
   "id": "c578533d",
   "metadata": {},
   "outputs": [],
   "source": [
    "groups_test = categorize(y_test, tX_test, ids_test)"
   ]
  },
  {
   "cell_type": "code",
   "execution_count": null,
   "id": "bb5493e4",
   "metadata": {},
   "outputs": [],
   "source": [
    "for i, (y_test, tX_test, ids_test) in enumerate(groups_test):\n",
    "    tX_test = remove_uniform_col(tX_test)\n",
    "    groups_test[i] = (y_test, tX_test, ids_test)"
   ]
  },
  {
   "cell_type": "code",
   "execution_count": null,
   "id": "12131bc0",
   "metadata": {},
   "outputs": [],
   "source": [
    "for i, (y_test, tX_test, ids_test) in enumerate(groups_test):\n",
    "    y_test = change_y(y_test)\n",
    "    \n",
    "    x_test, mean_x_test, std_x_test = clean(tX_test)\n",
    "    x_test = x_test[:, non_correlated_cols[i]]\n",
    "    \n",
    "    groups_test[i] = (y_test, x_test, ids_test)"
   ]
  },
  {
   "cell_type": "code",
   "execution_count": null,
   "id": "ce944f2e",
   "metadata": {},
   "outputs": [],
   "source": [
    "for i, (y_test, x_test, ids_test) in enumerate(groups_test):\n",
    "    x_test = build_poly(x_test, 5)\n",
    "    groups_test[i] = (y_test, x_test, ids_test)"
   ]
  },
  {
   "cell_type": "code",
   "execution_count": null,
   "id": "6aec935f",
   "metadata": {},
   "outputs": [],
   "source": [
    "y_preds_test = []\n",
    "for i, (y_test, x_test, ids_test) in enumerate(groups_test):\n",
    "    y_pred_test = predict_labels(weights[i], x_test)\n",
    "    y_preds_test.append(y_pred_test)\n",
    "    \n",
    "y_pred_test = np.concatenate(y_preds_test)\n",
    "y_pred_test = unchange_y(y_pred_test)\n",
    "\n",
    "g_ids_test = np.concatenate([ids_test for (_, _, ids_test) in groups_test])"
   ]
  },
  {
   "cell_type": "code",
   "execution_count": null,
   "id": "d552c016",
   "metadata": {},
   "outputs": [],
   "source": [
    "OUTPUT_PATH = '../data/sample-submission.csv' # TODO: fill in desired name of output file for submission\n",
    "create_csv_submission(g_ids_test, y_pred_test, OUTPUT_PATH)"
   ]
  },
  {
   "cell_type": "code",
   "execution_count": null,
   "id": "13af92ec",
   "metadata": {},
   "outputs": [],
   "source": [
    "y_pred_test"
   ]
  },
  {
   "cell_type": "code",
   "execution_count": null,
   "id": "b92d7658",
   "metadata": {},
   "outputs": [],
   "source": [
    "import pandas as pd\n",
    "y_compare = pd.read_csv('../data/sample-submission - Copy.csv')\n",
    "y_compare = y_compare['Prediction'].to_numpy()\n",
    "accuracy_score(y_pred_test, y_compare)"
   ]
  },
  {
   "cell_type": "code",
   "execution_count": null,
   "id": "0b0ee978",
   "metadata": {},
   "outputs": [],
   "source": []
  }
 ],
 "metadata": {
  "kernelspec": {
   "display_name": "Python 3",
   "language": "python",
   "name": "python3"
  },
  "language_info": {
   "codemirror_mode": {
    "name": "ipython",
    "version": 3
   },
   "file_extension": ".py",
   "mimetype": "text/x-python",
   "name": "python",
   "nbconvert_exporter": "python",
   "pygments_lexer": "ipython3",
   "version": "3.9.7"
  }
 },
 "nbformat": 4,
 "nbformat_minor": 5
}
