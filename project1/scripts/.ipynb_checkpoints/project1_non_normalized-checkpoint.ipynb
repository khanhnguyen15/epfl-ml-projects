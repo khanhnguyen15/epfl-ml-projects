{
 "cells": [
  {
   "cell_type": "code",
   "execution_count": 1,
   "id": "cfd0d2de",
   "metadata": {},
   "outputs": [],
   "source": [
    "# Useful starting lines\n",
    "%matplotlib inline\n",
    "import numpy as np\n",
    "import matplotlib.pyplot as plt\n",
    "%load_ext autoreload\n",
    "%autoreload 2"
   ]
  },
  {
   "cell_type": "code",
   "execution_count": 2,
   "id": "ed053c80",
   "metadata": {},
   "outputs": [],
   "source": [
    "from data_preprocessing import *\n",
    "from implementation import *\n",
    "from helpers import *\n",
    "from plot import *"
   ]
  },
  {
   "cell_type": "markdown",
   "id": "83b48564",
   "metadata": {},
   "source": [
    "### Categorize the data and remove columns"
   ]
  },
  {
   "cell_type": "code",
   "execution_count": 3,
   "id": "052d2c7b",
   "metadata": {},
   "outputs": [],
   "source": [
    "from proj1_helpers import *\n",
    "DATA_TRAIN_PATH = '../data/train.csv' # TODO: download train data and supply path here \n",
    "y, tX, ids = load_csv_data(DATA_TRAIN_PATH)"
   ]
  },
  {
   "cell_type": "code",
   "execution_count": 4,
   "id": "ba343b94",
   "metadata": {},
   "outputs": [],
   "source": [
    "groups = categorize(y, tX, ids)"
   ]
  },
  {
   "cell_type": "code",
   "execution_count": 5,
   "id": "eb50ebb2",
   "metadata": {},
   "outputs": [],
   "source": [
    "for i, (y, tX, ids) in enumerate(groups):\n",
    "    tX = remove_uniform_col(tX)\n",
    "    groups[i] = (y, tX, ids)"
   ]
  },
  {
   "cell_type": "markdown",
   "id": "2fd787d1",
   "metadata": {},
   "source": [
    "### Cleaning, removing outliers, and standardize (not used)"
   ]
  },
  {
   "cell_type": "code",
   "execution_count": 6,
   "id": "73afb63c",
   "metadata": {},
   "outputs": [],
   "source": [
    "non_correlated_cols = []\n",
    "\n",
    "for i, (y, tX, ids) in enumerate(groups):\n",
    "    y = change_y(y)\n",
    "    non_correlated_cols.append(non_correlated_col(tX))\n",
    "    \n",
    "    x, mean_x, std_x = clean(tX)\n",
    "    y, x = remove_outliers(y, x, mean_x, std_x)\n",
    "    x = standardize(x, mean_x, std_x)\n",
    "    x = x[:, non_correlated_cols[i]]\n",
    "    \n",
    "    groups[i] = (y, x, ids)"
   ]
  },
  {
   "cell_type": "markdown",
   "id": "1af98b1f",
   "metadata": {},
   "source": [
    "### Least squares GD"
   ]
  },
  {
   "cell_type": "code",
   "execution_count": 7,
   "id": "8694ed61",
   "metadata": {},
   "outputs": [
    {
     "data": {
      "text/plain": [
       "0.6705314435602971"
      ]
     },
     "execution_count": 7,
     "metadata": {},
     "output_type": "execute_result"
    }
   ],
   "source": [
    "weights = []\n",
    "y_preds = []\n",
    "\n",
    "for y, x, ids in groups:\n",
    "    w, _ = least_squares_GD(y, x, 10000, 0.001)\n",
    "    y_pred = predict_labels(w, x)\n",
    "    \n",
    "    weights.append(w)\n",
    "    y_preds.append(y_pred)\n",
    "\n",
    "y_pred = np.concatenate(y_preds)\n",
    "y_label = np.concatenate([y for (y, _, _) in groups])\n",
    "\n",
    "accuracy_score(y_pred, y_label)"
   ]
  },
  {
   "cell_type": "markdown",
   "id": "c3ff4a91",
   "metadata": {},
   "source": [
    "### Least squares with normal equations"
   ]
  },
  {
   "cell_type": "code",
   "execution_count": 8,
   "id": "aac8f744",
   "metadata": {},
   "outputs": [
    {
     "data": {
      "text/plain": [
       "0.6769413891154363"
      ]
     },
     "execution_count": 8,
     "metadata": {},
     "output_type": "execute_result"
    }
   ],
   "source": [
    "weights = []\n",
    "y_preds = []\n",
    "\n",
    "for y, x, ids in groups:\n",
    "    w, _ = least_squares(y, x)\n",
    "    y_pred = predict_labels(w, x)\n",
    "    \n",
    "    weights.append(w)\n",
    "    y_preds.append(y_pred)\n",
    "\n",
    "y_pred = np.concatenate(y_preds)\n",
    "y_label = np.concatenate([y for (y, _, _) in groups])\n",
    "\n",
    "accuracy_score(y_pred, y_label)"
   ]
  },
  {
   "cell_type": "markdown",
   "id": "b01cf07b",
   "metadata": {},
   "source": [
    "### Ridge Regression"
   ]
  },
  {
   "cell_type": "code",
   "execution_count": 9,
   "id": "c027bd7f",
   "metadata": {},
   "outputs": [],
   "source": [
    "### cross Validation to find lambda\n",
    "lambdas = np.logspace(-4, 0, 30)\n",
    "accuracies = []\n",
    "\n",
    "for y, x, ids in groups:\n",
    "    accuracy = ridge_cross_validation(y, x, lambdas)\n",
    "    accuracies.append(accuracy)"
   ]
  },
  {
   "cell_type": "code",
   "execution_count": 10,
   "id": "b19d1f8e",
   "metadata": {},
   "outputs": [
    {
     "data": {
      "image/png": "[encoded data removed]",
      "text/plain": [
       "<Figure size 432x288 with 1 Axes>"
      ]
     },
     "metadata": {
      "needs_background": "light"
     },
     "output_type": "display_data"
    }
   ],
   "source": [
    "ridge_cross_validation_visualization(lambdas, accuracies)"
   ]
  },
  {
   "cell_type": "code",
   "execution_count": 11,
   "id": "813b118a",
   "metadata": {},
   "outputs": [
    {
     "name": "stdout",
     "output_type": "stream",
     "text": [
      "0.0001\n"
     ]
    }
   ],
   "source": [
    "### select lambdas with the highest average accuracy\n",
    "best_lambda = lambdas[np.argmax(np.mean(accuracies, axis=0))]\n",
    "print(best_lambda)"
   ]
  },
  {
   "cell_type": "code",
   "execution_count": 12,
   "id": "daa333b3",
   "metadata": {},
   "outputs": [
    {
     "data": {
      "text/plain": [
       "0.6768752617541385"
      ]
     },
     "execution_count": 12,
     "metadata": {},
     "output_type": "execute_result"
    }
   ],
   "source": [
    "weights = []\n",
    "y_preds = []\n",
    "\n",
    "for y, x, ids in groups:\n",
    "    w, _ = ridge_regression(y, x, best_lambda)\n",
    "    y_pred = predict_labels(w, x)\n",
    "    \n",
    "    weights.append(w)\n",
    "    y_preds.append(y_pred)\n",
    "\n",
    "y_pred = np.concatenate(y_preds)\n",
    "y_label = np.concatenate([y for (y, _, _) in groups])\n",
    "\n",
    "accuracy_score(y_pred, y_label)"
   ]
  },
  {
   "cell_type": "markdown",
   "id": "5dcecb7e",
   "metadata": {},
   "source": [
    "### Add polynomial basis"
   ]
  },
  {
   "cell_type": "code",
   "execution_count": 13,
   "id": "fe301a1e",
   "metadata": {},
   "outputs": [],
   "source": [
    "polys = np.arange(1, 13)\n",
    "accuracies = []\n",
    "\n",
    "for y, x, ids in groups:\n",
    "    accuracy = poly_cross_validation(y, x, best_lambda, polys)\n",
    "    accuracies.append(accuracy)"
   ]
  },
  {
   "cell_type": "code",
   "execution_count": 14,
   "id": "70dac739",
   "metadata": {},
   "outputs": [
    {
     "data": {
      "image/png": "[encoded data removed]",
      "text/plain": [
       "<Figure size 432x288 with 1 Axes>"
      ]
     },
     "metadata": {
      "needs_background": "light"
     },
     "output_type": "display_data"
    }
   ],
   "source": [
    "poly_cross_validation_visualization(polys, accuracies)"
   ]
  },
  {
   "cell_type": "code",
   "execution_count": 15,
   "id": "1857f561",
   "metadata": {},
   "outputs": [],
   "source": [
    "# we choose a degree of 6 to have substantial performance while avoiding overfitting\n",
    "for i, (y, x, ids) in enumerate(groups):\n",
    "    x = build_poly(x, 6)\n",
    "    groups[i] = (y, x, ids)"
   ]
  },
  {
   "cell_type": "code",
   "execution_count": 16,
   "id": "c82803b9",
   "metadata": {},
   "outputs": [
    {
     "data": {
      "text/plain": [
       "0.8272929662530033"
      ]
     },
     "execution_count": 16,
     "metadata": {},
     "output_type": "execute_result"
    }
   ],
   "source": [
    "# using ridge regression\n",
    "weights = []\n",
    "y_preds = []\n",
    "\n",
    "for y, x, ids in groups:\n",
    "    w, _ = ridge_regression(y, x, best_lambda)\n",
    "    y_pred = predict_labels(w, x)\n",
    "    \n",
    "    weights.append(w)\n",
    "    y_preds.append(y_pred)\n",
    "\n",
    "y_pred = np.concatenate(y_preds)\n",
    "y_label = np.concatenate([y for (y, _, _) in groups])\n",
    "\n",
    "accuracy_score(y_pred, y_label)"
   ]
  },
  {
   "cell_type": "code",
   "execution_count": 17,
   "id": "cddca46b",
   "metadata": {},
   "outputs": [
    {
     "data": {
      "text/plain": [
       "0.8278925209954372"
      ]
     },
     "execution_count": 17,
     "metadata": {},
     "output_type": "execute_result"
    }
   ],
   "source": [
    "# using least squares\n",
    "weights = []\n",
    "y_preds = []\n",
    "\n",
    "for y, x, ids in groups:\n",
    "    w, _ = least_squares(y, x)\n",
    "    y_pred = predict_labels(w, x)\n",
    "    \n",
    "    weights.append(w)\n",
    "    y_preds.append(y_pred)\n",
    "\n",
    "y_pred = np.concatenate(y_preds)\n",
    "y_label = np.concatenate([y for (y, _, _) in groups])\n",
    "\n",
    "accuracy_score(y_pred, y_label)"
   ]
  },
  {
   "cell_type": "markdown",
   "id": "6ec32706",
   "metadata": {},
   "source": [
    "### APPYING TO TEST"
   ]
  },
  {
   "cell_type": "code",
   "execution_count": 18,
   "id": "3f9f0df8",
   "metadata": {},
   "outputs": [],
   "source": [
    "DATA_TEST_PATH = '../data/test.csv' # TODO: download train data and supply path here \n",
    "y_test, tX_test, ids_test = load_csv_data(DATA_TEST_PATH)"
   ]
  },
  {
   "cell_type": "code",
   "execution_count": 19,
   "id": "c578533d",
   "metadata": {},
   "outputs": [],
   "source": [
    "groups_test = categorize(y_test, tX_test, ids_test)"
   ]
  },
  {
   "cell_type": "code",
   "execution_count": 20,
   "id": "bb5493e4",
   "metadata": {},
   "outputs": [],
   "source": [
    "for i, (y_test, tX_test, ids_test) in enumerate(groups_test):\n",
    "    tX_test = remove_uniform_col(tX_test)\n",
    "    groups_test[i] = (y_test, tX_test, ids_test)"
   ]
  },
  {
   "cell_type": "code",
   "execution_count": 21,
   "id": "12131bc0",
   "metadata": {},
   "outputs": [],
   "source": [
    "for i, (y_test, tX_test, ids_test) in enumerate(groups_test):\n",
    "    y_test = change_y(y_test)\n",
    "    \n",
    "    x_test, mean_x_test, std_x_test = clean(tX_test)\n",
    "    x_test = x_test[:, non_correlated_cols[i]]\n",
    "    \n",
    "    groups_test[i] = (y_test, x_test, ids_test)"
   ]
  },
  {
   "cell_type": "code",
   "execution_count": 22,
   "id": "ce944f2e",
   "metadata": {},
   "outputs": [],
   "source": [
    "for i, (y_test, x_test, ids_test) in enumerate(groups_test):\n",
    "    x_test = build_poly(x_test, 6)\n",
    "    groups_test[i] = (y_test, x_test, ids_test)"
   ]
  },
  {
   "cell_type": "code",
   "execution_count": 23,
   "id": "6aec935f",
   "metadata": {},
   "outputs": [],
   "source": [
    "y_preds_test = []\n",
    "for i, (y_test, x_test, ids_test) in enumerate(groups_test):\n",
    "    y_pred_test = predict_labels(weights[i], x_test)\n",
    "    y_preds_test.append(y_pred_test)\n",
    "    \n",
    "y_pred_test = np.concatenate(y_preds_test)\n",
    "y_pred_test = unchange_y(y_pred_test)\n",
    "\n",
    "g_ids_test = np.concatenate([ids_test for (_, _, ids_test) in groups_test])"
   ]
  },
  {
   "cell_type": "code",
   "execution_count": 24,
   "id": "d552c016",
   "metadata": {},
   "outputs": [],
   "source": [
    "OUTPUT_PATH = '../data/sample-submission.csv' # TODO: fill in desired name of output file for submission\n",
    "create_csv_submission(g_ids_test, y_pred_test, OUTPUT_PATH)"
   ]
  },
  {
   "cell_type": "code",
   "execution_count": 25,
   "id": "13af92ec",
   "metadata": {},
   "outputs": [
    {
     "data": {
      "text/plain": [
       "array([-1., -1., -1., ..., -1., -1., -1.])"
      ]
     },
     "execution_count": 25,
     "metadata": {},
     "output_type": "execute_result"
    }
   ],
   "source": [
    "y_pred_test"
   ]
  },
  {
   "cell_type": "code",
   "execution_count": 26,
   "id": "edcae5ae",
   "metadata": {},
   "outputs": [
    {
     "ename": "NameError",
     "evalue": "name 'pd' is not defined",
     "output_type": "error",
     "traceback": [
      "\u001b[1;31m---------------------------------------------------------------------------\u001b[0m",
      "\u001b[1;31mNameError\u001b[0m                                 Traceback (most recent call last)",
      "\u001b[1;32m<ipython-input-26-e24339d67827>\u001b[0m in \u001b[0;36m<module>\u001b[1;34m\u001b[0m\n\u001b[1;32m----> 1\u001b[1;33m \u001b[0my_compare\u001b[0m \u001b[1;33m=\u001b[0m \u001b[0mpd\u001b[0m\u001b[1;33m.\u001b[0m\u001b[0mread_csv\u001b[0m\u001b[1;33m(\u001b[0m\u001b[1;34m'../data/sample-submission - Copy.csv'\u001b[0m\u001b[1;33m)\u001b[0m\u001b[1;33m\u001b[0m\u001b[1;33m\u001b[0m\u001b[0m\n\u001b[0m\u001b[0;32m      2\u001b[0m \u001b[0my_compare\u001b[0m \u001b[1;33m=\u001b[0m \u001b[0my_compare\u001b[0m\u001b[1;33m[\u001b[0m\u001b[1;34m'Prediction'\u001b[0m\u001b[1;33m]\u001b[0m\u001b[1;33m.\u001b[0m\u001b[0mto_numpy\u001b[0m\u001b[1;33m(\u001b[0m\u001b[1;33m)\u001b[0m\u001b[1;33m\u001b[0m\u001b[1;33m\u001b[0m\u001b[0m\n\u001b[0;32m      3\u001b[0m \u001b[0maccuracy_score\u001b[0m\u001b[1;33m(\u001b[0m\u001b[0my_pred_test\u001b[0m\u001b[1;33m,\u001b[0m \u001b[0my_compare\u001b[0m\u001b[1;33m)\u001b[0m\u001b[1;33m\u001b[0m\u001b[1;33m\u001b[0m\u001b[0m\n",
      "\u001b[1;31mNameError\u001b[0m: name 'pd' is not defined"
     ]
    }
   ],
   "source": [
    "y_compare = pd.read_csv('../data/sample-submission - Copy.csv')\n",
    "y_compare = y_compare['Prediction'].to_numpy()\n",
    "accuracy_score(y_pred_test, y_compare)"
   ]
  }
 ],
 "metadata": {
  "kernelspec": {
   "display_name": "Python 3",
   "language": "python",
   "name": "python3"
  },
  "language_info": {
   "codemirror_mode": {
    "name": "ipython",
    "version": 3
   },
   "file_extension": ".py",
   "mimetype": "text/x-python",
   "name": "python",
   "nbconvert_exporter": "python",
   "pygments_lexer": "ipython3",
   "version": "3.9.7"
  }
 },
 "nbformat": 4,
 "nbformat_minor": 5
}
